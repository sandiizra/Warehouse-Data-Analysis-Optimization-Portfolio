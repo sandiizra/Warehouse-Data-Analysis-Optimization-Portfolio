{
  "cells": [
    {
      "cell_type": "markdown",
      "metadata": {},
      "source": [
        "# Warehouse Data Analysis (Basic)\n",
        "This notebook demonstrates basic data cleaning and descriptive analysis on the simulated warehouse dataset.\n",
        "Tools used: Python (pandas, matplotlib)\n"
      ]
    },
    {
      "cell_type": "code",
      "execution_count": null,
      "metadata": {},
      "outputs": [],
      "source": [
        "import pandas as pd\n",
        "import matplotlib.pyplot as plt\n",
        "%matplotlib inline\n",
        "df = pd.read_excel('warehouse_data.xlsx')\n",
        "df['Date_Received'] = pd.to_datetime(df['Date_Received'])\n",
        "df['Date_Issued'] = pd.to_datetime(df['Date_Issued'])\n",
        "df.head()"
      ]
    },
    {
      "cell_type": "code",
      "execution_count": null,
      "metadata": {},
      "outputs": [],
      "source": [
        "# Basic metrics\n",
        "total_in = df['Stock_In'].sum()\n",
        "total_out = df['Stock_Out'].sum()\n",
        "avg_utilization = (df['Current_Stock'].sum() / (df['Stock_In'].sum())) * 100\n",
        "discrepancy_rate = (df['Discrepancy'].abs().sum() / df['Stock_In'].sum()) * 100\n",
        "print(f\"Total In: {total_in}\")\n",
        "print(f\"Total Out: {total_out}\")\n",
        "print(f\"Average Utilization (approx): {avg_utilization:.1f}%\")\n",
        "print(f\"Approx Discrepancy Rate: {discrepancy_rate:.2f}%\")"
      ]
    },
    {
      "cell_type": "code",
      "execution_count": null,
      "metadata": {},
      "outputs": [],
      "source": [
        "# Simple visualization: top zones by current stock\n",
        "zone_summary = df.groupby('Zone')['Current_Stock'].sum().sort_values(ascending=False)\n",
        "ax = zone_summary.plot(kind='bar')\n",
        "ax.set_title('Current Stock by Zone')\n",
        "ax.set_xlabel('Zone')\n",
        "ax.set_ylabel('Current Stock')\n",
        "plt.tight_layout()"
      ]
    },
    {
      "cell_type": "markdown",
      "metadata": {},
      "source": [
        "## Findings & Recommendations (example)\n",
        "- Identify zones with high utilization for rebalancing.\n",
        "- Weekly stock audits for items with non-zero discrepancy.\n",
        "- Consider relocating fast-moving items to reduce picking time.\n"
      ]
    }
  ],
  "metadata": {
    "kernelspec": {
      "display_name": "Python 3",
      "language": "python",
      "name": "python3"
    },
    "language_info": {
      "codemirror_mode": {
        "name": "ipython",
        "version": 3
      },
      "file_extension": ".py",
      "mimetype": "text/x-python",
      "name": "python",
      "nbconvert_exporter": "python",
      "pygments_lexer": "ipython3",
      "version": "3.8"
    }
  },
  "nbformat": 4,
  "nbformat_minor": 5
}
